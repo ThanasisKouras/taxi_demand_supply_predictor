{
 "cells": [
  {
   "cell_type": "code",
   "execution_count": 1,
   "metadata": {},
   "outputs": [],
   "source": [
    "HOPSWORKS_PROJECT_NAME = 'taxi_demand_supply'"
   ]
  },
  {
   "cell_type": "code",
   "execution_count": 2,
   "metadata": {},
   "outputs": [],
   "source": [
    "import os\n",
    "from dotenv import load_dotenv\n",
    "from src.paths import PARENT_DIR\n",
    "\n",
    "# load key-value pairs from .env file located in the parent directory\n",
    "load_dotenv(PARENT_DIR / '.env')\n",
    "\n",
    "HOPSWORKS_API_KEY = os.environ['HOPSWORKS_API_KEY']"
   ]
  },
  {
   "cell_type": "code",
   "execution_count": 3,
   "metadata": {},
   "outputs": [
    {
     "name": "stdout",
     "output_type": "stream",
     "text": [
      "Downloading raw data from 2022 to 2023\n",
      "File 2022-01 was already in local storage\n",
      "File 2022-02 was already in local storage\n",
      "File 2022-03 was already in local storage\n",
      "File 2022-04 was already in local storage\n",
      "File 2022-05 was already in local storage\n",
      "File 2022-06 was already in local storage\n",
      "File 2022-07 was already in local storage\n",
      "File 2022-08 was already in local storage\n",
      "File 2022-09 was already in local storage\n",
      "File 2022-10 was already in local storage\n",
      "File 2022-11 was already in local storage\n",
      "File 2022-12 was already in local storage\n",
      "File 2023-01 was already in local storage\n",
      "File 2023-02 was already in local storage\n",
      "File 2023-03 was already in local storage\n",
      "File 2023-04 was already in local storage\n",
      "File 2023-05 was already in local storage\n",
      "File 2023-06 was already in local storage\n",
      "File 2023-07 was already in local storage\n",
      "File 2023-08 was already in local storage\n",
      "File 2023-09 was already in local storage\n",
      "Downloading file 2023-10\n",
      "2023-10 file is not available\n",
      "Downloading file 2023-11\n",
      "2023-11 file is not available\n",
      "Downloading file 2023-12\n",
      "2023-12 file is not available\n"
     ]
    }
   ],
   "source": [
    "from datetime import datetime\n",
    "import pandas as pd\n",
    "from src.data import load_raw_data\n",
    "\n",
    "from_year = 2022\n",
    "to_year = datetime.now().year\n",
    "print(f'Downloading raw data from {from_year} to {to_year}')\n",
    "\n",
    "rides = pd.DataFrame()\n",
    "for year in range(from_year, to_year+1):\n",
    "    \n",
    "    # download data for the whole year\n",
    "    rides_one_year = load_raw_data(year)\n",
    "    \n",
    "    # append rows\n",
    "    rides = pd.concat([rides, rides_one_year])"
   ]
  },
  {
   "cell_type": "code",
   "execution_count": 4,
   "metadata": {},
   "outputs": [
    {
     "name": "stdout",
     "output_type": "stream",
     "text": [
      "len(rides)=67725690\n"
     ]
    }
   ],
   "source": [
    "print(f'{len(rides)=}')"
   ]
  },
  {
   "cell_type": "code",
   "execution_count": 5,
   "metadata": {},
   "outputs": [
    {
     "name": "stderr",
     "output_type": "stream",
     "text": [
      "100%|██████████| 265/265 [00:04<00:00, 59.16it/s]\n"
     ]
    }
   ],
   "source": [
    "from src.data import transform_raw_data_into_ts_data\n",
    "\n",
    "ts_data = transform_raw_data_into_ts_data(rides)"
   ]
  },
  {
   "cell_type": "code",
   "execution_count": 6,
   "metadata": {},
   "outputs": [
    {
     "name": "stdout",
     "output_type": "stream",
     "text": [
      "Requirement already satisfied: hopsworks in c:\\users\\tkour\\appdata\\local\\pypoetry\\cache\\virtualenvs\\src-7_k7c_k2-py3.9\\lib\\site-packages (3.4.3)\n",
      "Requirement already satisfied: hsfs<3.5.0,>=3.4.0 in c:\\users\\tkour\\appdata\\local\\pypoetry\\cache\\virtualenvs\\src-7_k7c_k2-py3.9\\lib\\site-packages (from hsfs[python]<3.5.0,>=3.4.0->hopsworks) (3.4.4)\n",
      "Requirement already satisfied: hsml<3.5.0,>=3.4.0 in c:\\users\\tkour\\appdata\\local\\pypoetry\\cache\\virtualenvs\\src-7_k7c_k2-py3.9\\lib\\site-packages (from hopsworks) (3.4.5)\n",
      "Requirement already satisfied: pyhumps==1.6.1 in c:\\users\\tkour\\appdata\\local\\pypoetry\\cache\\virtualenvs\\src-7_k7c_k2-py3.9\\lib\\site-packages (from hopsworks) (1.6.1)\n",
      "Requirement already satisfied: requests in c:\\users\\tkour\\appdata\\local\\pypoetry\\cache\\virtualenvs\\src-7_k7c_k2-py3.9\\lib\\site-packages (from hopsworks) (2.31.0)\n",
      "Requirement already satisfied: furl in c:\\users\\tkour\\appdata\\local\\pypoetry\\cache\\virtualenvs\\src-7_k7c_k2-py3.9\\lib\\site-packages (from hopsworks) (2.1.3)\n",
      "Requirement already satisfied: boto3 in c:\\users\\tkour\\appdata\\local\\pypoetry\\cache\\virtualenvs\\src-7_k7c_k2-py3.9\\lib\\site-packages (from hopsworks) (1.29.3)\n",
      "Requirement already satisfied: pyjks in c:\\users\\tkour\\appdata\\local\\pypoetry\\cache\\virtualenvs\\src-7_k7c_k2-py3.9\\lib\\site-packages (from hopsworks) (20.0.0)\n",
      "Requirement already satisfied: mock in c:\\users\\tkour\\appdata\\local\\pypoetry\\cache\\virtualenvs\\src-7_k7c_k2-py3.9\\lib\\site-packages (from hopsworks) (5.1.0)\n",
      "Requirement already satisfied: tqdm in c:\\users\\tkour\\appdata\\local\\pypoetry\\cache\\virtualenvs\\src-7_k7c_k2-py3.9\\lib\\site-packages (from hopsworks) (4.66.1)\n",
      "Requirement already satisfied: pandas<2.1.0 in c:\\users\\tkour\\appdata\\local\\pypoetry\\cache\\virtualenvs\\src-7_k7c_k2-py3.9\\lib\\site-packages (from hsfs<3.5.0,>=3.4.0->hsfs[python]<3.5.0,>=3.4.0->hopsworks) (2.0.3)\n",
      "Requirement already satisfied: numpy in c:\\users\\tkour\\appdata\\local\\pypoetry\\cache\\virtualenvs\\src-7_k7c_k2-py3.9\\lib\\site-packages (from hsfs<3.5.0,>=3.4.0->hsfs[python]<3.5.0,>=3.4.0->hopsworks) (1.26.2)\n",
      "Requirement already satisfied: avro==1.11.0 in c:\\users\\tkour\\appdata\\local\\pypoetry\\cache\\virtualenvs\\src-7_k7c_k2-py3.9\\lib\\site-packages (from hsfs<3.5.0,>=3.4.0->hsfs[python]<3.5.0,>=3.4.0->hopsworks) (1.11.0)\n",
      "Requirement already satisfied: sqlalchemy in c:\\users\\tkour\\appdata\\local\\pypoetry\\cache\\virtualenvs\\src-7_k7c_k2-py3.9\\lib\\site-packages (from hsfs<3.5.0,>=3.4.0->hsfs[python]<3.5.0,>=3.4.0->hopsworks) (2.0.23)\n",
      "Requirement already satisfied: PyMySQL[rsa] in c:\\users\\tkour\\appdata\\local\\pypoetry\\cache\\virtualenvs\\src-7_k7c_k2-py3.9\\lib\\site-packages (from hsfs<3.5.0,>=3.4.0->hsfs[python]<3.5.0,>=3.4.0->hopsworks) (1.1.0)\n",
      "Requirement already satisfied: great-expectations==0.14.13 in c:\\users\\tkour\\appdata\\local\\pypoetry\\cache\\virtualenvs\\src-7_k7c_k2-py3.9\\lib\\site-packages (from hsfs<3.5.0,>=3.4.0->hsfs[python]<3.5.0,>=3.4.0->hopsworks) (0.14.13)\n",
      "Requirement already satisfied: markupsafe<2.1.0 in c:\\users\\tkour\\appdata\\local\\pypoetry\\cache\\virtualenvs\\src-7_k7c_k2-py3.9\\lib\\site-packages (from hsfs<3.5.0,>=3.4.0->hsfs[python]<3.5.0,>=3.4.0->hopsworks) (2.0.1)\n",
      "Requirement already satisfied: tzlocal in c:\\users\\tkour\\appdata\\local\\pypoetry\\cache\\virtualenvs\\src-7_k7c_k2-py3.9\\lib\\site-packages (from hsfs<3.5.0,>=3.4.0->hsfs[python]<3.5.0,>=3.4.0->hopsworks) (5.2)\n",
      "Requirement already satisfied: fsspec in c:\\users\\tkour\\appdata\\local\\pypoetry\\cache\\virtualenvs\\src-7_k7c_k2-py3.9\\lib\\site-packages (from hsfs<3.5.0,>=3.4.0->hsfs[python]<3.5.0,>=3.4.0->hopsworks) (2023.10.0)\n",
      "Requirement already satisfied: altair<5,>=4.0.0 in c:\\users\\tkour\\appdata\\local\\pypoetry\\cache\\virtualenvs\\src-7_k7c_k2-py3.9\\lib\\site-packages (from great-expectations==0.14.13->hsfs<3.5.0,>=3.4.0->hsfs[python]<3.5.0,>=3.4.0->hopsworks) (4.2.2)\n",
      "Requirement already satisfied: Click>=7.1.2 in c:\\users\\tkour\\appdata\\local\\pypoetry\\cache\\virtualenvs\\src-7_k7c_k2-py3.9\\lib\\site-packages (from great-expectations==0.14.13->hsfs<3.5.0,>=3.4.0->hsfs[python]<3.5.0,>=3.4.0->hopsworks) (8.1.7)\n",
      "Requirement already satisfied: colorama>=0.4.3 in c:\\users\\tkour\\appdata\\local\\pypoetry\\cache\\virtualenvs\\src-7_k7c_k2-py3.9\\lib\\site-packages (from great-expectations==0.14.13->hsfs<3.5.0,>=3.4.0->hsfs[python]<3.5.0,>=3.4.0->hopsworks) (0.4.6)\n",
      "Requirement already satisfied: cryptography>=3.2 in c:\\users\\tkour\\appdata\\local\\pypoetry\\cache\\virtualenvs\\src-7_k7c_k2-py3.9\\lib\\site-packages (from great-expectations==0.14.13->hsfs<3.5.0,>=3.4.0->hsfs[python]<3.5.0,>=3.4.0->hopsworks) (41.0.5)\n",
      "Requirement already satisfied: dataclasses in c:\\users\\tkour\\appdata\\local\\pypoetry\\cache\\virtualenvs\\src-7_k7c_k2-py3.9\\lib\\site-packages (from great-expectations==0.14.13->hsfs<3.5.0,>=3.4.0->hsfs[python]<3.5.0,>=3.4.0->hopsworks) (0.6)\n",
      "Requirement already satisfied: importlib-metadata>=1.7.0 in c:\\users\\tkour\\appdata\\local\\pypoetry\\cache\\virtualenvs\\src-7_k7c_k2-py3.9\\lib\\site-packages (from great-expectations==0.14.13->hsfs<3.5.0,>=3.4.0->hsfs[python]<3.5.0,>=3.4.0->hopsworks) (6.8.0)\n",
      "Requirement already satisfied: Ipython>=7.16.3 in c:\\users\\tkour\\appdata\\local\\pypoetry\\cache\\virtualenvs\\src-7_k7c_k2-py3.9\\lib\\site-packages (from great-expectations==0.14.13->hsfs<3.5.0,>=3.4.0->hsfs[python]<3.5.0,>=3.4.0->hopsworks) (8.17.2)\n",
      "Requirement already satisfied: jinja2<3.1.0,>=2.10 in c:\\users\\tkour\\appdata\\local\\pypoetry\\cache\\virtualenvs\\src-7_k7c_k2-py3.9\\lib\\site-packages (from great-expectations==0.14.13->hsfs<3.5.0,>=3.4.0->hsfs[python]<3.5.0,>=3.4.0->hopsworks) (3.0.3)\n",
      "Requirement already satisfied: jsonpatch>=1.22 in c:\\users\\tkour\\appdata\\local\\pypoetry\\cache\\virtualenvs\\src-7_k7c_k2-py3.9\\lib\\site-packages (from great-expectations==0.14.13->hsfs<3.5.0,>=3.4.0->hsfs[python]<3.5.0,>=3.4.0->hopsworks) (1.33)\n",
      "Requirement already satisfied: jsonschema>=2.5.1 in c:\\users\\tkour\\appdata\\local\\pypoetry\\cache\\virtualenvs\\src-7_k7c_k2-py3.9\\lib\\site-packages (from great-expectations==0.14.13->hsfs<3.5.0,>=3.4.0->hsfs[python]<3.5.0,>=3.4.0->hopsworks) (4.20.0)\n",
      "Requirement already satisfied: mistune>=0.8.4 in c:\\users\\tkour\\appdata\\local\\pypoetry\\cache\\virtualenvs\\src-7_k7c_k2-py3.9\\lib\\site-packages (from great-expectations==0.14.13->hsfs<3.5.0,>=3.4.0->hsfs[python]<3.5.0,>=3.4.0->hopsworks) (3.0.2)\n",
      "Requirement already satisfied: nbformat>=5.0 in c:\\users\\tkour\\appdata\\local\\pypoetry\\cache\\virtualenvs\\src-7_k7c_k2-py3.9\\lib\\site-packages (from great-expectations==0.14.13->hsfs<3.5.0,>=3.4.0->hsfs[python]<3.5.0,>=3.4.0->hopsworks) (5.9.2)\n",
      "Requirement already satisfied: packaging in c:\\users\\tkour\\appdata\\local\\pypoetry\\cache\\virtualenvs\\src-7_k7c_k2-py3.9\\lib\\site-packages (from great-expectations==0.14.13->hsfs<3.5.0,>=3.4.0->hsfs[python]<3.5.0,>=3.4.0->hopsworks) (23.2)\n",
      "Requirement already satisfied: pyparsing<3,>=2.4 in c:\\users\\tkour\\appdata\\local\\pypoetry\\cache\\virtualenvs\\src-7_k7c_k2-py3.9\\lib\\site-packages (from great-expectations==0.14.13->hsfs<3.5.0,>=3.4.0->hsfs[python]<3.5.0,>=3.4.0->hopsworks) (2.4.7)\n",
      "Requirement already satisfied: python-dateutil>=2.8.1 in c:\\users\\tkour\\appdata\\local\\pypoetry\\cache\\virtualenvs\\src-7_k7c_k2-py3.9\\lib\\site-packages (from great-expectations==0.14.13->hsfs<3.5.0,>=3.4.0->hsfs[python]<3.5.0,>=3.4.0->hopsworks) (2.8.2)\n",
      "Requirement already satisfied: pytz>=2021.3 in c:\\users\\tkour\\appdata\\local\\pypoetry\\cache\\virtualenvs\\src-7_k7c_k2-py3.9\\lib\\site-packages (from great-expectations==0.14.13->hsfs<3.5.0,>=3.4.0->hsfs[python]<3.5.0,>=3.4.0->hopsworks) (2023.3.post1)\n",
      "Requirement already satisfied: ruamel.yaml<0.17.18,>=0.16 in c:\\users\\tkour\\appdata\\local\\pypoetry\\cache\\virtualenvs\\src-7_k7c_k2-py3.9\\lib\\site-packages (from great-expectations==0.14.13->hsfs<3.5.0,>=3.4.0->hsfs[python]<3.5.0,>=3.4.0->hopsworks) (0.17.17)\n",
      "Requirement already satisfied: scipy>=0.19.0 in c:\\users\\tkour\\appdata\\local\\pypoetry\\cache\\virtualenvs\\src-7_k7c_k2-py3.9\\lib\\site-packages (from great-expectations==0.14.13->hsfs<3.5.0,>=3.4.0->hsfs[python]<3.5.0,>=3.4.0->hopsworks) (1.11.4)\n",
      "Requirement already satisfied: termcolor>=1.1.0 in c:\\users\\tkour\\appdata\\local\\pypoetry\\cache\\virtualenvs\\src-7_k7c_k2-py3.9\\lib\\site-packages (from great-expectations==0.14.13->hsfs<3.5.0,>=3.4.0->hsfs[python]<3.5.0,>=3.4.0->hopsworks) (2.3.0)\n",
      "Requirement already satisfied: typing-extensions>=3.10.0.0 in c:\\users\\tkour\\appdata\\local\\pypoetry\\cache\\virtualenvs\\src-7_k7c_k2-py3.9\\lib\\site-packages (from great-expectations==0.14.13->hsfs<3.5.0,>=3.4.0->hsfs[python]<3.5.0,>=3.4.0->hopsworks) (4.8.0)\n",
      "Requirement already satisfied: urllib3<1.27,>=1.25.4 in c:\\users\\tkour\\appdata\\local\\pypoetry\\cache\\virtualenvs\\src-7_k7c_k2-py3.9\\lib\\site-packages (from great-expectations==0.14.13->hsfs<3.5.0,>=3.4.0->hsfs[python]<3.5.0,>=3.4.0->hopsworks) (1.26.18)\n",
      "Requirement already satisfied: pyhopshive[thrift] in c:\\users\\tkour\\appdata\\local\\pypoetry\\cache\\virtualenvs\\src-7_k7c_k2-py3.9\\lib\\site-packages (from hsfs[python]<3.5.0,>=3.4.0->hopsworks) (0.6.4.1.dev0)\n",
      "Requirement already satisfied: pyarrow>=10.0 in c:\\users\\tkour\\appdata\\local\\pypoetry\\cache\\virtualenvs\\src-7_k7c_k2-py3.9\\lib\\site-packages (from hsfs[python]<3.5.0,>=3.4.0->hopsworks) (14.0.1)\n",
      "Requirement already satisfied: confluent-kafka<=2.1.1 in c:\\users\\tkour\\appdata\\local\\pypoetry\\cache\\virtualenvs\\src-7_k7c_k2-py3.9\\lib\\site-packages (from hsfs[python]<3.5.0,>=3.4.0->hopsworks) (2.1.1)\n",
      "Requirement already satisfied: fastavro<=1.8.2,>=1.4.11 in c:\\users\\tkour\\appdata\\local\\pypoetry\\cache\\virtualenvs\\src-7_k7c_k2-py3.9\\lib\\site-packages (from hsfs[python]<3.5.0,>=3.4.0->hopsworks) (1.8.2)\n",
      "Requirement already satisfied: charset-normalizer<4,>=2 in c:\\users\\tkour\\appdata\\local\\pypoetry\\cache\\virtualenvs\\src-7_k7c_k2-py3.9\\lib\\site-packages (from requests->hopsworks) (3.3.2)\n",
      "Requirement already satisfied: idna<4,>=2.5 in c:\\users\\tkour\\appdata\\local\\pypoetry\\cache\\virtualenvs\\src-7_k7c_k2-py3.9\\lib\\site-packages (from requests->hopsworks) (3.4)\n",
      "Requirement already satisfied: certifi>=2017.4.17 in c:\\users\\tkour\\appdata\\local\\pypoetry\\cache\\virtualenvs\\src-7_k7c_k2-py3.9\\lib\\site-packages (from requests->hopsworks) (2023.11.17)\n",
      "Requirement already satisfied: botocore<1.33.0,>=1.32.3 in c:\\users\\tkour\\appdata\\local\\pypoetry\\cache\\virtualenvs\\src-7_k7c_k2-py3.9\\lib\\site-packages (from boto3->hopsworks) (1.32.3)\n",
      "Requirement already satisfied: jmespath<2.0.0,>=0.7.1 in c:\\users\\tkour\\appdata\\local\\pypoetry\\cache\\virtualenvs\\src-7_k7c_k2-py3.9\\lib\\site-packages (from boto3->hopsworks) (1.0.1)\n",
      "Requirement already satisfied: s3transfer<0.8.0,>=0.7.0 in c:\\users\\tkour\\appdata\\local\\pypoetry\\cache\\virtualenvs\\src-7_k7c_k2-py3.9\\lib\\site-packages (from boto3->hopsworks) (0.7.0)\n",
      "Requirement already satisfied: six>=1.8.0 in c:\\users\\tkour\\appdata\\local\\pypoetry\\cache\\virtualenvs\\src-7_k7c_k2-py3.9\\lib\\site-packages (from furl->hopsworks) (1.16.0)\n",
      "Requirement already satisfied: orderedmultidict>=1.0.1 in c:\\users\\tkour\\appdata\\local\\pypoetry\\cache\\virtualenvs\\src-7_k7c_k2-py3.9\\lib\\site-packages (from furl->hopsworks) (1.0.1)\n",
      "Requirement already satisfied: javaobj-py3 in c:\\users\\tkour\\appdata\\local\\pypoetry\\cache\\virtualenvs\\src-7_k7c_k2-py3.9\\lib\\site-packages (from pyjks->hopsworks) (0.4.3)\n",
      "Requirement already satisfied: pyasn1>=0.3.5 in c:\\users\\tkour\\appdata\\local\\pypoetry\\cache\\virtualenvs\\src-7_k7c_k2-py3.9\\lib\\site-packages (from pyjks->hopsworks) (0.5.0)\n",
      "Requirement already satisfied: pyasn1-modules in c:\\users\\tkour\\appdata\\local\\pypoetry\\cache\\virtualenvs\\src-7_k7c_k2-py3.9\\lib\\site-packages (from pyjks->hopsworks) (0.3.0)\n",
      "Requirement already satisfied: pycryptodomex in c:\\users\\tkour\\appdata\\local\\pypoetry\\cache\\virtualenvs\\src-7_k7c_k2-py3.9\\lib\\site-packages (from pyjks->hopsworks) (3.19.0)\n",
      "Requirement already satisfied: twofish in c:\\users\\tkour\\appdata\\local\\pypoetry\\cache\\virtualenvs\\src-7_k7c_k2-py3.9\\lib\\site-packages (from pyjks->hopsworks) (0.3.0)\n",
      "Requirement already satisfied: tzdata>=2022.1 in c:\\users\\tkour\\appdata\\local\\pypoetry\\cache\\virtualenvs\\src-7_k7c_k2-py3.9\\lib\\site-packages (from pandas<2.1.0->hsfs<3.5.0,>=3.4.0->hsfs[python]<3.5.0,>=3.4.0->hopsworks) (2023.3)\n",
      "Requirement already satisfied: future in c:\\users\\tkour\\appdata\\local\\pypoetry\\cache\\virtualenvs\\src-7_k7c_k2-py3.9\\lib\\site-packages (from pyhopshive[thrift]; extra == \"python\"->hsfs[python]<3.5.0,>=3.4.0->hopsworks) (0.18.3)\n",
      "Requirement already satisfied: thrift>=0.10.0 in c:\\users\\tkour\\appdata\\local\\pypoetry\\cache\\virtualenvs\\src-7_k7c_k2-py3.9\\lib\\site-packages (from pyhopshive[thrift]; extra == \"python\"->hsfs[python]<3.5.0,>=3.4.0->hopsworks) (0.16.0)\n",
      "Requirement already satisfied: greenlet!=0.4.17 in c:\\users\\tkour\\appdata\\local\\pypoetry\\cache\\virtualenvs\\src-7_k7c_k2-py3.9\\lib\\site-packages (from sqlalchemy->hsfs<3.5.0,>=3.4.0->hsfs[python]<3.5.0,>=3.4.0->hopsworks) (3.0.1)\n",
      "Requirement already satisfied: entrypoints in c:\\users\\tkour\\appdata\\local\\pypoetry\\cache\\virtualenvs\\src-7_k7c_k2-py3.9\\lib\\site-packages (from altair<5,>=4.0.0->great-expectations==0.14.13->hsfs<3.5.0,>=3.4.0->hsfs[python]<3.5.0,>=3.4.0->hopsworks) (0.4)\n",
      "Requirement already satisfied: toolz in c:\\users\\tkour\\appdata\\local\\pypoetry\\cache\\virtualenvs\\src-7_k7c_k2-py3.9\\lib\\site-packages (from altair<5,>=4.0.0->great-expectations==0.14.13->hsfs<3.5.0,>=3.4.0->hsfs[python]<3.5.0,>=3.4.0->hopsworks) (0.12.0)\n",
      "Requirement already satisfied: cffi>=1.12 in c:\\users\\tkour\\appdata\\local\\pypoetry\\cache\\virtualenvs\\src-7_k7c_k2-py3.9\\lib\\site-packages (from cryptography>=3.2->great-expectations==0.14.13->hsfs<3.5.0,>=3.4.0->hsfs[python]<3.5.0,>=3.4.0->hopsworks) (1.16.0)\n",
      "Requirement already satisfied: zipp>=0.5 in c:\\users\\tkour\\appdata\\local\\pypoetry\\cache\\virtualenvs\\src-7_k7c_k2-py3.9\\lib\\site-packages (from importlib-metadata>=1.7.0->great-expectations==0.14.13->hsfs<3.5.0,>=3.4.0->hsfs[python]<3.5.0,>=3.4.0->hopsworks) (3.17.0)\n",
      "Requirement already satisfied: decorator in c:\\users\\tkour\\appdata\\local\\pypoetry\\cache\\virtualenvs\\src-7_k7c_k2-py3.9\\lib\\site-packages (from Ipython>=7.16.3->great-expectations==0.14.13->hsfs<3.5.0,>=3.4.0->hsfs[python]<3.5.0,>=3.4.0->hopsworks) (5.1.1)\n",
      "Requirement already satisfied: jedi>=0.16 in c:\\users\\tkour\\appdata\\local\\pypoetry\\cache\\virtualenvs\\src-7_k7c_k2-py3.9\\lib\\site-packages (from Ipython>=7.16.3->great-expectations==0.14.13->hsfs<3.5.0,>=3.4.0->hsfs[python]<3.5.0,>=3.4.0->hopsworks) (0.19.1)\n",
      "Requirement already satisfied: matplotlib-inline in c:\\users\\tkour\\appdata\\local\\pypoetry\\cache\\virtualenvs\\src-7_k7c_k2-py3.9\\lib\\site-packages (from Ipython>=7.16.3->great-expectations==0.14.13->hsfs<3.5.0,>=3.4.0->hsfs[python]<3.5.0,>=3.4.0->hopsworks) (0.1.6)\n",
      "Requirement already satisfied: prompt-toolkit!=3.0.37,<3.1.0,>=3.0.30 in c:\\users\\tkour\\appdata\\local\\pypoetry\\cache\\virtualenvs\\src-7_k7c_k2-py3.9\\lib\\site-packages (from Ipython>=7.16.3->great-expectations==0.14.13->hsfs<3.5.0,>=3.4.0->hsfs[python]<3.5.0,>=3.4.0->hopsworks) (3.0.41)\n",
      "Requirement already satisfied: pygments>=2.4.0 in c:\\users\\tkour\\appdata\\local\\pypoetry\\cache\\virtualenvs\\src-7_k7c_k2-py3.9\\lib\\site-packages (from Ipython>=7.16.3->great-expectations==0.14.13->hsfs<3.5.0,>=3.4.0->hsfs[python]<3.5.0,>=3.4.0->hopsworks) (2.17.1)\n",
      "Requirement already satisfied: stack-data in c:\\users\\tkour\\appdata\\local\\pypoetry\\cache\\virtualenvs\\src-7_k7c_k2-py3.9\\lib\\site-packages (from Ipython>=7.16.3->great-expectations==0.14.13->hsfs<3.5.0,>=3.4.0->hsfs[python]<3.5.0,>=3.4.0->hopsworks) (0.6.3)\n",
      "Requirement already satisfied: traitlets>=5 in c:\\users\\tkour\\appdata\\local\\pypoetry\\cache\\virtualenvs\\src-7_k7c_k2-py3.9\\lib\\site-packages (from Ipython>=7.16.3->great-expectations==0.14.13->hsfs<3.5.0,>=3.4.0->hsfs[python]<3.5.0,>=3.4.0->hopsworks) (5.13.0)\n",
      "Requirement already satisfied: exceptiongroup in c:\\users\\tkour\\appdata\\local\\pypoetry\\cache\\virtualenvs\\src-7_k7c_k2-py3.9\\lib\\site-packages (from Ipython>=7.16.3->great-expectations==0.14.13->hsfs<3.5.0,>=3.4.0->hsfs[python]<3.5.0,>=3.4.0->hopsworks) (1.1.3)\n",
      "Requirement already satisfied: jsonpointer>=1.9 in c:\\users\\tkour\\appdata\\local\\pypoetry\\cache\\virtualenvs\\src-7_k7c_k2-py3.9\\lib\\site-packages (from jsonpatch>=1.22->great-expectations==0.14.13->hsfs<3.5.0,>=3.4.0->hsfs[python]<3.5.0,>=3.4.0->hopsworks) (2.4)\n",
      "Requirement already satisfied: attrs>=22.2.0 in c:\\users\\tkour\\appdata\\local\\pypoetry\\cache\\virtualenvs\\src-7_k7c_k2-py3.9\\lib\\site-packages (from jsonschema>=2.5.1->great-expectations==0.14.13->hsfs<3.5.0,>=3.4.0->hsfs[python]<3.5.0,>=3.4.0->hopsworks) (23.1.0)\n",
      "Requirement already satisfied: jsonschema-specifications>=2023.03.6 in c:\\users\\tkour\\appdata\\local\\pypoetry\\cache\\virtualenvs\\src-7_k7c_k2-py3.9\\lib\\site-packages (from jsonschema>=2.5.1->great-expectations==0.14.13->hsfs<3.5.0,>=3.4.0->hsfs[python]<3.5.0,>=3.4.0->hopsworks) (2023.11.1)\n",
      "Requirement already satisfied: referencing>=0.28.4 in c:\\users\\tkour\\appdata\\local\\pypoetry\\cache\\virtualenvs\\src-7_k7c_k2-py3.9\\lib\\site-packages (from jsonschema>=2.5.1->great-expectations==0.14.13->hsfs<3.5.0,>=3.4.0->hsfs[python]<3.5.0,>=3.4.0->hopsworks) (0.31.0)\n",
      "Requirement already satisfied: rpds-py>=0.7.1 in c:\\users\\tkour\\appdata\\local\\pypoetry\\cache\\virtualenvs\\src-7_k7c_k2-py3.9\\lib\\site-packages (from jsonschema>=2.5.1->great-expectations==0.14.13->hsfs<3.5.0,>=3.4.0->hsfs[python]<3.5.0,>=3.4.0->hopsworks) (0.13.0)\n",
      "Requirement already satisfied: fastjsonschema in c:\\users\\tkour\\appdata\\local\\pypoetry\\cache\\virtualenvs\\src-7_k7c_k2-py3.9\\lib\\site-packages (from nbformat>=5.0->great-expectations==0.14.13->hsfs<3.5.0,>=3.4.0->hsfs[python]<3.5.0,>=3.4.0->hopsworks) (2.19.0)\n",
      "Requirement already satisfied: jupyter-core in c:\\users\\tkour\\appdata\\local\\pypoetry\\cache\\virtualenvs\\src-7_k7c_k2-py3.9\\lib\\site-packages (from nbformat>=5.0->great-expectations==0.14.13->hsfs<3.5.0,>=3.4.0->hsfs[python]<3.5.0,>=3.4.0->hopsworks) (5.5.0)\n",
      "Requirement already satisfied: ruamel.yaml.clib>=0.1.2 in c:\\users\\tkour\\appdata\\local\\pypoetry\\cache\\virtualenvs\\src-7_k7c_k2-py3.9\\lib\\site-packages (from ruamel.yaml<0.17.18,>=0.16->great-expectations==0.14.13->hsfs<3.5.0,>=3.4.0->hsfs[python]<3.5.0,>=3.4.0->hopsworks) (0.2.8)\n",
      "Requirement already satisfied: pycparser in c:\\users\\tkour\\appdata\\local\\pypoetry\\cache\\virtualenvs\\src-7_k7c_k2-py3.9\\lib\\site-packages (from cffi>=1.12->cryptography>=3.2->great-expectations==0.14.13->hsfs<3.5.0,>=3.4.0->hsfs[python]<3.5.0,>=3.4.0->hopsworks) (2.21)\n",
      "Requirement already satisfied: parso<0.9.0,>=0.8.3 in c:\\users\\tkour\\appdata\\local\\pypoetry\\cache\\virtualenvs\\src-7_k7c_k2-py3.9\\lib\\site-packages (from jedi>=0.16->Ipython>=7.16.3->great-expectations==0.14.13->hsfs<3.5.0,>=3.4.0->hsfs[python]<3.5.0,>=3.4.0->hopsworks) (0.8.3)\n",
      "Requirement already satisfied: wcwidth in c:\\users\\tkour\\appdata\\local\\pypoetry\\cache\\virtualenvs\\src-7_k7c_k2-py3.9\\lib\\site-packages (from prompt-toolkit!=3.0.37,<3.1.0,>=3.0.30->Ipython>=7.16.3->great-expectations==0.14.13->hsfs<3.5.0,>=3.4.0->hsfs[python]<3.5.0,>=3.4.0->hopsworks) (0.2.10)\n",
      "Requirement already satisfied: platformdirs>=2.5 in c:\\users\\tkour\\appdata\\local\\pypoetry\\cache\\virtualenvs\\src-7_k7c_k2-py3.9\\lib\\site-packages (from jupyter-core->nbformat>=5.0->great-expectations==0.14.13->hsfs<3.5.0,>=3.4.0->hsfs[python]<3.5.0,>=3.4.0->hopsworks) (4.0.0)\n",
      "Requirement already satisfied: pywin32>=300 in c:\\users\\tkour\\appdata\\local\\pypoetry\\cache\\virtualenvs\\src-7_k7c_k2-py3.9\\lib\\site-packages (from jupyter-core->nbformat>=5.0->great-expectations==0.14.13->hsfs<3.5.0,>=3.4.0->hsfs[python]<3.5.0,>=3.4.0->hopsworks) (306)\n",
      "Requirement already satisfied: executing>=1.2.0 in c:\\users\\tkour\\appdata\\local\\pypoetry\\cache\\virtualenvs\\src-7_k7c_k2-py3.9\\lib\\site-packages (from stack-data->Ipython>=7.16.3->great-expectations==0.14.13->hsfs<3.5.0,>=3.4.0->hsfs[python]<3.5.0,>=3.4.0->hopsworks) (2.0.1)\n",
      "Requirement already satisfied: asttokens>=2.1.0 in c:\\users\\tkour\\appdata\\local\\pypoetry\\cache\\virtualenvs\\src-7_k7c_k2-py3.9\\lib\\site-packages (from stack-data->Ipython>=7.16.3->great-expectations==0.14.13->hsfs<3.5.0,>=3.4.0->hsfs[python]<3.5.0,>=3.4.0->hopsworks) (2.4.1)\n",
      "Requirement already satisfied: pure-eval in c:\\users\\tkour\\appdata\\local\\pypoetry\\cache\\virtualenvs\\src-7_k7c_k2-py3.9\\lib\\site-packages (from stack-data->Ipython>=7.16.3->great-expectations==0.14.13->hsfs<3.5.0,>=3.4.0->hsfs[python]<3.5.0,>=3.4.0->hopsworks) (0.2.2)\n",
      "Note: you may need to restart the kernel to use updated packages.\n"
     ]
    }
   ],
   "source": [
    "%pip install hopsworks"
   ]
  },
  {
   "cell_type": "code",
   "execution_count": 7,
   "metadata": {},
   "outputs": [],
   "source": [
    "import hopsworks"
   ]
  },
  {
   "cell_type": "code",
   "execution_count": 8,
   "metadata": {},
   "outputs": [
    {
     "name": "stdout",
     "output_type": "stream",
     "text": [
      "Connected. Call `.close()` to terminate connection gracefully.\n",
      "\n",
      "Logged in to project, explore it here https://c.app.hopsworks.ai:443/p/224407\n"
     ]
    }
   ],
   "source": [
    "project = hopsworks.login(\n",
    "    project=HOPSWORKS_PROJECT_NAME,\n",
    "    api_key_value=HOPSWORKS_API_KEY\n",
    ")"
   ]
  },
  {
   "cell_type": "code",
   "execution_count": 9,
   "metadata": {},
   "outputs": [
    {
     "name": "stdout",
     "output_type": "stream",
     "text": [
      "Connected. Call `.close()` to terminate connection gracefully.\n"
     ]
    }
   ],
   "source": [
    "feature_store = project.get_feature_store()\n"
   ]
  },
  {
   "cell_type": "code",
   "execution_count": 10,
   "metadata": {},
   "outputs": [],
   "source": [
    "FEATURE_GROUP_NAME = 'time_series_hourly_feature_group'\n",
    "FEATURE_GROUP_VERSION = 1"
   ]
  },
  {
   "cell_type": "code",
   "execution_count": 11,
   "metadata": {},
   "outputs": [],
   "source": [
    "feature_group = feature_store.get_or_create_feature_group(\n",
    "    name=FEATURE_GROUP_NAME,\n",
    "    version=FEATURE_GROUP_VERSION,\n",
    "    description=\"Time-series data at hourly frequency\",\n",
    "    primary_key = ['pickup_location_id', 'pickup_hour'],\n",
    "    event_time='pickup_hour',\n",
    ")"
   ]
  },
  {
   "cell_type": "code",
   "execution_count": 12,
   "metadata": {},
   "outputs": [
    {
     "data": {
      "application/vnd.jupyter.widget-view+json": {
       "model_id": "c5e8c4cf321f412a9f3a22473f70518c",
       "version_major": 2,
       "version_minor": 0
      },
      "text/plain": [
       "Uploading Dataframe: 0.00% |          | Rows 0/4057680 | Elapsed Time: 00:00 | Remaining Time: ?"
      ]
     },
     "metadata": {},
     "output_type": "display_data"
    },
    {
     "name": "stdout",
     "output_type": "stream",
     "text": [
      "Launching job: time_series_hourly_feature_group_1_offline_fg_materialization\n",
      "Job started successfully, you can follow the progress at \n",
      "https://c.app.hopsworks.ai/p/224407/jobs/named/time_series_hourly_feature_group_1_offline_fg_materialization/executions\n"
     ]
    },
    {
     "data": {
      "text/plain": [
       "(<hsfs.core.job.Job at 0x23f3172ec70>, None)"
      ]
     },
     "execution_count": 12,
     "metadata": {},
     "output_type": "execute_result"
    }
   ],
   "source": [
    "feature_group.insert(ts_data, write_options={\"wait_for_job\": False})"
   ]
  }
 ],
 "metadata": {
  "kernelspec": {
   "display_name": "src-WflSytlT-py3.12",
   "language": "python",
   "name": "python3"
  },
  "language_info": {
   "codemirror_mode": {
    "name": "ipython",
    "version": 3
   },
   "file_extension": ".py",
   "mimetype": "text/x-python",
   "name": "python",
   "nbconvert_exporter": "python",
   "pygments_lexer": "ipython3",
   "version": "3.9.1"
  }
 },
 "nbformat": 4,
 "nbformat_minor": 2
}
